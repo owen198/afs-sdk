{
 "cells": [
  {
   "cell_type": "code",
   "execution_count": 12,
   "metadata": {},
   "outputs": [],
   "source": [
    "manifest = {\n",
    "    'memory': 1024,\n",
    "    'disk_quota': 2048,\n",
    "    'buildpack': 'python_buildpack',\n",
    "    'requirements': [\n",
    "        'numpy',\n",
    "        'pandas',\n",
    "        'keras',\n",
    "        'scikit-learn',\n",
    "        'influxdb',\n",
    "        'tensorflow',\n",
    "        'h5py',\n",
    "        'afs'\n",
    "    ],\n",
    "    'type': 'APP'\n",
    "}\n"
   ]
  },
  {
   "cell_type": "markdown",
   "metadata": {},
   "source": [
    "# 1. Import python library"
   ]
  },
  {
   "cell_type": "code",
   "execution_count": 13,
   "metadata": {},
   "outputs": [],
   "source": [
    "import numpy as np\n",
    "import pandas\n",
    "import math\n",
    "from keras.models import Sequential\n",
    "from keras.layers import Dense\n",
    "from keras.layers import LSTM\n",
    "from keras.layers.core import Dropout\n",
    "from sklearn.preprocessing import MinMaxScaler\n",
    "from sklearn.metrics import mean_squared_error\n",
    "from influxdb import InfluxDBClient\n",
    "import json\n",
    "from afs import models, services"
   ]
  },
  {
   "cell_type": "markdown",
   "metadata": {},
   "source": [
    "# 2. Load influxdb based on config"
   ]
  },
  {
   "cell_type": "code",
   "execution_count": 14,
   "metadata": {},
   "outputs": [],
   "source": [
    "def read_influx_db(influx_config, limit=300):\n",
    "    # influxdb information\n",
    "    host = influx_config['host']\n",
    "    port = influx_config['port']\n",
    "    database = influx_config['database']\n",
    "    username = influx_config['username']\n",
    "    password = influx_config['password']\n",
    "    measurement = influx_config['measurement']\n",
    "    column = influx_config['column']\n",
    "    \n",
    "    # set connection and fetch data\n",
    "    client = InfluxDBClient(host, port, username, password, database)\n",
    "    query_str = \"select \\\"%s\\\" from %s order by desc limit %s \" % (column,measurement,limit)\n",
    "    result = client.query(query_str)\n",
    "    temp_points = list(result.get_points(measurement=measurement))\n",
    "    df = pandas.DataFrame(temp_points).sort_values(by='time')[[column]]\n",
    "    return df\n"
   ]
  },
  {
   "cell_type": "markdown",
   "metadata": {},
   "source": [
    "# 3. Create dataset for feature and label"
   ]
  },
  {
   "cell_type": "code",
   "execution_count": 15,
   "metadata": {},
   "outputs": [],
   "source": [
    "def create_dataset(dataset, look_back):\n",
    "    dataX, dataY = [], []\n",
    "    # dataX is feature, dataY is label\n",
    "    for i in range(len(dataset)-look_back-1):\n",
    "        a = dataset[i:(i+look_back), 0]\n",
    "        dataX.append(a)\n",
    "        dataY.append(dataset[i+look_back, 0])\n",
    "    return np.array(dataX), np.array(dataY)\n"
   ]
  },
  {
   "cell_type": "markdown",
   "metadata": {},
   "source": [
    "# 4. Train RNN model, and upload model to model management\n",
    "<img src=\"model.png\" alt=\"lstm_model\">"
   ]
  },
  {
   "cell_type": "code",
   "execution_count": 16,
   "metadata": {},
   "outputs": [],
   "source": [
    "def rnn_model(model_para):\n",
    "    # load the dataset\n",
    "    dataframe = read_influx_db(influx_config)\n",
    "    dataset = dataframe.values\n",
    "    dataset = dataset.astype('float32')\n",
    "    raw_data = dataset\n",
    "\n",
    "    # normalize the dataset from 0 to 1\n",
    "    scaler = MinMaxScaler(feature_range=(0, 1))\n",
    "    dataset = scaler.fit_transform(dataset)\n",
    "\n",
    "    # split into train and test sets\n",
    "    train_size = int(len(dataset) * 0.8)\n",
    "    test_size = len(dataset) - train_size\n",
    "    train, test = dataset[0:train_size,:], dataset[train_size:len(dataset),:]\n",
    "\n",
    "    # reshape into X=t and Y=t+1\n",
    "    trainX, trainY = create_dataset(train, model_para['look_back'])\n",
    "    testX, testY = create_dataset(test, model_para['look_back'])\n",
    "\n",
    "    # reshape input to be [samples, time steps, features]\n",
    "    trainX = np.reshape(trainX, (trainX.shape[0], 1, trainX.shape[1]))\n",
    "    testX = np.reshape(testX, (testX.shape[0], 1, testX.shape[1]))\n",
    "\n",
    "    # create and fit the LSTM network\n",
    "    model = Sequential()\n",
    "    model.add(LSTM(model_para['LSTM_unit'], input_shape=(1, model_para['look_back'])))\n",
    "    model.add(Dense(units=128,activation='relu'))\n",
    "    model.add(Dropout(0.2))\n",
    "    model.add(Dense(1))\n",
    "    model.compile(loss='mean_squared_error', optimizer='adam')\n",
    "    model.fit(trainX, trainY, epochs=model_para['epoch'], batch_size=5, verbose=0)\n",
    "    model.summary()\n",
    "\n",
    "    # make predictions\n",
    "    trainPredict = model.predict(trainX)\n",
    "    testPredict = model.predict(testX)\n",
    "\n",
    "    # invert predictions\n",
    "    trainPredict = scaler.inverse_transform(trainPredict)\n",
    "    trainY = scaler.inverse_transform([trainY])\n",
    "    testPredict = scaler.inverse_transform(testPredict)\n",
    "    testY = scaler.inverse_transform([testY])\n",
    "\n",
    "    # calculate root mean squared error\n",
    "    trainScore = math.sqrt(mean_squared_error(trainY[0], trainPredict[:,0]))\n",
    "    print('Train Score: %.2f RMSE' % (trainScore))\n",
    "    testScore = math.sqrt(mean_squared_error(testY[0], testPredict[:,0]))\n",
    "    print('Test Score: %.2f RMSE' % (testScore))\n",
    "    \n",
    "    # colculate training accuracy \n",
    "    label = trainY[0]\n",
    "    predict = trainPredict[:,0]\n",
    "    acc = [True if round(label[i])==round(predict[i]) else False for i in range(len(label))].count(True) / len(label)\n",
    "    \n",
    "    # save and upload model\n",
    "    model.save(model_para['model_name'])\n",
    "    results = {}\n",
    "    evaluation_result={\"testScore\": testScore, \"trainScore\": trainScore}\n",
    "    results['TrainScore'] = trainScore\n",
    "    results['TestScore'] = testScore\n",
    "    afs_models = models()\n",
    "    afs_models.upload_model(model_para['model_name'], accuracy= acc, \n",
    "                               loss= trainScore, extra_evaluation=evaluation_result)\n",
    "    return raw_data, trainPredict, testPredict, results"
   ]
  },
  {
   "cell_type": "markdown",
   "metadata": {},
   "source": [
    "# 5. Host & Training Parameter Config"
   ]
  },
  {
   "cell_type": "code",
   "execution_count": 17,
   "metadata": {},
   "outputs": [],
   "source": [
    "afs_ser = services()\n",
    "credential = afs_ser.get_service_info()['influxdb'][0]\n",
    "influx_config = {\n",
    "    'host': credential['host'],\n",
    "    'port' : credential['port'],\n",
    "    'database' : credential['database'],\n",
    "    'username' : credential['username'],\n",
    "    'password' : credential['password'],\n",
    "    'measurement' : 'data_mea',\n",
    "    'column': 'TEMPERATURE_OUTPUT'\n",
    "}\n",
    "\n",
    "model_para = {\n",
    "    'epoch': 100,\n",
    "    'LSTM_unit': 16,\n",
    "    'look_back': 12,\n",
    "    'model_name': 'rnn_model.h5'\n",
    "}"
   ]
  },
  {
   "cell_type": "markdown",
   "metadata": {},
   "source": [
    "# 6. Main function"
   ]
  },
  {
   "cell_type": "code",
   "execution_count": 20,
   "metadata": {},
   "outputs": [
    {
     "name": "stdout",
     "output_type": "stream",
     "text": [
      "_________________________________________________________________\n",
      "Layer (type)                 Output Shape              Param #   \n",
      "=================================================================\n",
      "lstm_3 (LSTM)                (None, 16)                1856      \n",
      "_________________________________________________________________\n",
      "dense_5 (Dense)              (None, 128)               2176      \n",
      "_________________________________________________________________\n",
      "dropout_3 (Dropout)          (None, 128)               0         \n",
      "_________________________________________________________________\n",
      "dense_6 (Dense)              (None, 1)                 129       \n",
      "=================================================================\n",
      "Total params: 4,161\n",
      "Trainable params: 4,161\n",
      "Non-trainable params: 0\n",
      "_________________________________________________________________\n",
      "Train Score: 3.15 RMSE\n",
      "Test Score: 3.56 RMSE\n",
      "{\"model_para\": {\"epoch\": 100, \"LSTM_unit\": 16, \"look_back\": 12, \"model_name\": \"rnn_model.h5\"}, \"results\": {\"TrainScore\": 3.146850438117519, \"TestScore\": 3.5610396774420754}}\n"
     ]
    }
   ],
   "source": [
    "resp = {}\n",
    "try:    \n",
    "    dataset, trainPredict, testPredict, results = rnn_model(model_para)    \n",
    "    resp.update({'model_para': model_para})\n",
    "    resp.update({'results': results})\n",
    "    resp = json.dumps(resp)\n",
    "    print(resp)\n",
    "except Exception as e:\n",
    "    resp['error'] = str(e)\n",
    "    resp = json.dumps(resp)\n",
    "    print(resp)"
   ]
  },
  {
   "cell_type": "code",
   "execution_count": null,
   "metadata": {},
   "outputs": [],
   "source": []
  }
 ],
 "metadata": {
  "kernelspec": {
   "display_name": "Python 3",
   "language": "python",
   "name": "python3"
  },
  "language_info": {
   "codemirror_mode": {
    "name": "ipython",
    "version": 3
   },
   "file_extension": ".py",
   "mimetype": "text/x-python",
   "name": "python",
   "nbconvert_exporter": "python",
   "pygments_lexer": "ipython3",
   "version": "3.6.1"
  }
 },
 "nbformat": 4,
 "nbformat_minor": 2
}
