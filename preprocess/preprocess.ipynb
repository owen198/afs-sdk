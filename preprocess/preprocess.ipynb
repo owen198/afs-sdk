{
 "cells": [
  {
   "cell_type": "code",
   "execution_count": 1,
   "metadata": {},
   "outputs": [],
   "source": [
    "manifest = {\n",
    "    'memory': 1024,\n",
    "    'requirements': [\n",
    "        'pandas',\n",
    "        'influxdb',\n",
    "        'scikit_learn',\n",
    "        'scipy',\n",
    "        'afs',\n",
    "        'boto==2.48.0'\n",
    "    ]\n",
    "}"
   ]
  },
  {
   "cell_type": "code",
   "execution_count": 2,
   "metadata": {},
   "outputs": [
    {
     "name": "stdout",
     "output_type": "stream",
     "text": [
      "Requirement already satisfied: boto==2.48.0 in /home/vcap/app/.cloudfoundry/0/python/lib/python3.6/site-packages\r\n"
     ]
    }
   ],
   "source": [
    "!pip install boto==2.48.0"
   ]
  },
  {
   "cell_type": "code",
   "execution_count": 3,
   "metadata": {},
   "outputs": [],
   "source": [
    "import pandas as pd\n",
    "from influxdb import DataFrameClient\n",
    "import datetime\n",
    "import os\n",
    "import boto\n",
    "import boto.s3.connection\n",
    "from boto.s3.key import Key"
   ]
  },
  {
   "cell_type": "code",
   "execution_count": 4,
   "metadata": {},
   "outputs": [],
   "source": [
    "## InfluxDB Configuration\n",
    "IDB_HOST = '192.168.123.245'\n",
    "IDB_PORT = 8086\n",
    "IDB_DBNAME = 'c9377a95-82f3-4af3-ac14-40d14f6d2abe'\n",
    "#IDB_CHANNEL = '1Y520210100'\n",
    "\n",
    "IDB_USER = 'c6e23c03-dd57-4c8f-a6e2-b683ad76e8e4'\n",
    "IDB_PASSWORD = 'NSr8dUZ6meiRlal8zqGcV6avK'\n",
    "\n",
    "KEYWORD = ''\n",
    "\n",
    "## S3 Configuration\n",
    "S3_HOST = '192.168.123.242'\n",
    "S3_PORT = 8080\n",
    "S3_ACCESS_KEY = 'ee7da6e1bba944829884747df01a1eee'\n",
    "S3_SECRET_KEY = 'd737995ebd3e459db321fb119f006456'\n",
    "\n",
    "S3_BUCKET_FROM = 'FOMOS-Y5'\n",
    "S3_BUCKET_TO = 'FOMOS-Y5-SUMMARY'\n",
    "\n",
    "NUM_SMB = 'smartbox22 Signal Data'\n",
    "FILE_DEST = 'Raw Data-1-'\n",
    "SAMPLE_RATE = 8192\n"
   ]
  },
  {
   "cell_type": "code",
   "execution_count": 5,
   "metadata": {},
   "outputs": [],
   "source": [
    "def read_influxdb_data(host='192.168.123.245', \n",
    "                       port=8086, \n",
    "                       dbname = 'c9377a95-82f3-4af3-ac14-40d14f6d2abe', \n",
    "                       ChannelName='1Y520210100', \n",
    "                       time_start='', \n",
    "                       time_end='', \n",
    "                       user = 'c6e23c03-dd57-4c8f-a6e2-b683ad76e8e4', \n",
    "                       password = 'NSr8dUZ6meiRlal8zqGcV6avK',\n",
    "                       keyword=''):\n",
    "    \n",
    "    #Example: read_influxdb_data(ChannelName='1Y520210200')\n",
    "    #Example: read_influxdb_data(ChannelName='1Y520210200',time_start='2018-05-28',time_end='2018-05-29')\n",
    "    client = DataFrameClient(host, port, user, password, dbname)\n",
    "    measurements = client.get_list_measurements()\n",
    "    \n",
    "    if keyword is None: keyword = ''\n",
    "        \n",
    "    if keyword=='':\n",
    "        measurement = [mea.get(u'name') for mea in measurements if mea.get(u'name').find(ChannelName)>=0]\n",
    "    else:\n",
    "        measurement = [mea.get(u'name') for mea in measurements if mea.get(u'name').find(ChannelName)>=0 and mea.get(u'name').find(keyword)>=0]\n",
    "    \n",
    "    if len(measurement)==0: \n",
    "        print('No data retrieved.')\n",
    "        return None\n",
    "    \n",
    "    measurement = measurement[-1]\n",
    "    \n",
    "    time_end = 'now()' if time_end=='' else \"'\" + time_end + ' 15:59:00' + \"'\"\n",
    "    print(time_end)\n",
    "    \n",
    "    time_start = 'now()' if time_start=='' else \"'\" + time_start + ' 16:00:00' + \"'\"\n",
    "    print(time_start)\n",
    "    \n",
    "    querystr = 'select * from \"{}\" where time > {} and time < {}'.format(measurement,time_start,time_end)\n",
    "    print(querystr)\n",
    "    \n",
    "    df = client.query(querystr).get(measurement)\n",
    "    client.close()\n",
    "    \n",
    "    if df is None: \n",
    "        print('No data retrieved.')\n",
    "        return None    \n",
    "    \n",
    "    dff = df.groupby('id')\n",
    "    columns = [name for name, group in dff]\n",
    "    groups = [group['val'] for name, group in dff]\n",
    "    \n",
    "    #check datatime alginment: all([all(groups[i].index==groups[0].index) for i in range(1,len(groups))])\n",
    "    result = pd.concat(groups,axis=1)\n",
    "    result.columns = columns\n",
    "    result.index = groups[0].index\n",
    "    \n",
    "    print('data between {} and {} are retrieved, dimension: {}x{}'.format(time_start,time_end,result.shape[0],result.shape[1]))\n",
    "    \n",
    "    return measurement, result"
   ]
  },
  {
   "cell_type": "markdown",
   "metadata": {},
   "source": [
    "# Ger Current Date"
   ]
  },
  {
   "cell_type": "code",
   "execution_count": 6,
   "metadata": {},
   "outputs": [
    {
     "name": "stdout",
     "output_type": "stream",
     "text": [
      "from: 2018-06-28 to 2018-06-27\n"
     ]
    }
   ],
   "source": [
    "today = datetime.date.today() + datetime.timedelta(hours=8) - datetime.timedelta(days=1)\n",
    "\n",
    "TIME_END = str(today.year) + '-'\\\n",
    "                + '{:02d}'.format(today.month) + '-'\\\n",
    "                + '{:02d}'.format(today.day)\n",
    "\n",
    "pastday = datetime.date.today() + datetime.timedelta(hours=8) - datetime.timedelta(days=2)\n",
    "TIME_START = str(pastday.year) + '-'\\\n",
    "                + '{:02d}'.format(pastday.month) + '-'\\\n",
    "                + '{:02d}'.format(pastday.day)\n",
    "\n",
    "print ('from:', TIME_END, 'to', TIME_START)"
   ]
  },
  {
   "cell_type": "markdown",
   "metadata": {},
   "source": [
    "# Get data along with the date"
   ]
  },
  {
   "cell_type": "code",
   "execution_count": 7,
   "metadata": {},
   "outputs": [],
   "source": [
    "\n",
    "def get_scada_data (ChannelName):\n",
    "    measurement, data = read_influxdb_data(host = IDB_HOST,\n",
    "                                       port = IDB_PORT,\n",
    "                                       dbname = IDB_DBNAME,\n",
    "                                       ChannelName = ChannelName,\n",
    "                                       time_start = TIME_START,\n",
    "                                       time_end = TIME_END,\n",
    "                                       user = IDB_USER,\n",
    "                                       password = IDB_PASSWORD\n",
    "                                      )\n",
    "\n",
    "    return data\n",
    "#measurement, data = read_influxdb_data(ChannelName='1Y520210200')\n",
    "\n"
   ]
  },
  {
   "cell_type": "code",
   "execution_count": 8,
   "metadata": {},
   "outputs": [],
   "source": [
    "#measurement, data = read_influxdb_data(host = IDB_HOST,\n",
    "#                                       port = IDB_PORT,\n",
    "#                                       dbname = IDB_DBNAME,\n",
    "#                                       ChannelName = '1Y520220100',\n",
    "#                                       time_start = TIME_START,\n",
    "#                                       time_end = TIME_END,\n",
    "#                                       user = IDB_USER,\n",
    "#                                       password = IDB_PASSWORD\n",
    "#                                      )"
   ]
  },
  {
   "cell_type": "markdown",
   "metadata": {},
   "source": [
    "# Connect to S3 storege"
   ]
  },
  {
   "cell_type": "code",
   "execution_count": 9,
   "metadata": {},
   "outputs": [],
   "source": [
    "s3_connection = boto.connect_s3(\n",
    "                   aws_access_key_id = S3_ACCESS_KEY,\n",
    "                   aws_secret_access_key = S3_SECRET_KEY,\n",
    "                   host = S3_HOST,\n",
    "                   port = S3_PORT,\n",
    "                   is_secure=False,               # uncomment if you are not using ssl\n",
    "                   calling_format = boto.s3.connection.OrdinaryCallingFormat(),\n",
    "                 )"
   ]
  },
  {
   "cell_type": "code",
   "execution_count": 10,
   "metadata": {},
   "outputs": [],
   "source": [
    "# From: 'FOMOS-Y5/smartbox11 signal Data/1Y510110100/2018/4/10/Raw Data-1-1Y510110100-00-05-05.bin'\n",
    "# To: 'FOMOS-Y5-SUMMARY/smartbox11 signal Data/1Y510110100/2018/4/10/MAX-1Y510110100-1.bin'\n",
    "# f = '2018-06-26 09:11:02'\n",
    "\n",
    "def s3_cp (f='', type='', tag='', ChannelName=''):\n",
    "    \n",
    "    from_filename = FILE_DEST + ChannelName + '-' + \\\n",
    "                     str(f).split(' ')[1].split('+')[0].replace(':', '-') + '_' + str(SAMPLE_RATE) + '.bin'\n",
    "    #print(from_filename)\n",
    "    \n",
    "    path = NUM_SMB + '/' + ChannelName + '/' \\\n",
    "                 + str(f).split('-')[0] + '/' + '{:01d}'.format(int(str(f).split('-')[1])) + '/' \\\n",
    "                 + '{:02d}'.format(int(str(f).split('-')[2].split(' ')[0]))\n",
    "    \n",
    "    to_filename = type + '-' +ChannelName + '-' + tag + '.bin'\n",
    "    \n",
    "    \n",
    "    FROM = os.path.join(S3_BUCKET_FROM, path, from_filename)\n",
    "    TO = os.path.join(S3_BUCKET_TO, path, to_filename)\n",
    "    \n",
    "    #print('From', FROM)\n",
    "    #print('To', TO)\n",
    "    \n",
    "    # Download\n",
    "    bucket = s3_connection.get_bucket(S3_BUCKET_FROM, validate=False)\n",
    "    key = Key(bucket)\n",
    "    key.key = os.path.join(path, from_filename)\n",
    "    #print(key.key)\n",
    "    key.get_contents_to_filename(from_filename)\n",
    "    \n",
    "    # Upload\n",
    "    bucket = s3_connection.get_bucket(S3_BUCKET_TO, validate=False)\n",
    "    key = Key(bucket)\n",
    "    key.key = os.path.join(path, to_filename)\n",
    "    key.set_contents_from_filename(from_filename)\n",
    "    \n",
    "    # Clean\n",
    "    os.remove(from_filename)\n",
    "    \n",
    "    return 0"
   ]
  },
  {
   "cell_type": "code",
   "execution_count": 11,
   "metadata": {
    "scrolled": false
   },
   "outputs": [],
   "source": [
    "#print ('Raw Data-1-1Y520220101-03-30-38_8192.bin')\n",
    "#s3_cp(f='2018-06-23 03:30:38', type='MEAN', tag=str(2))"
   ]
  },
  {
   "cell_type": "markdown",
   "metadata": {},
   "source": [
    "# Sort features and figure out max, min and mean elements"
   ]
  },
  {
   "cell_type": "code",
   "execution_count": 12,
   "metadata": {},
   "outputs": [],
   "source": [
    "def convert_taipei_time (datetime_object):\n",
    "\n",
    "#datetime_object = '2018-06-26 23:16:32+00:00'\n",
    "    datetime_object = datetime_object.split('+')[0]\n",
    "    datetime_object = datetime.datetime.strptime(datetime_object, '%Y-%m-%d %H:%M:%S')\n",
    "    datetime_object = datetime_object + datetime.timedelta(hours=8) \n",
    "    \n",
    "    return datetime_object"
   ]
  },
  {
   "cell_type": "code",
   "execution_count": 13,
   "metadata": {
    "scrolled": false
   },
   "outputs": [],
   "source": [
    "\n",
    "def pre_process (Data='', ChannelName=''):\n",
    "    \n",
    "    for i in range(0, len(list(Data.columns.values))):\n",
    "\n",
    "        #print(list(data.columns.values)[i])\n",
    "        min = Data.sort_values(by=list(data.columns.values)[i]).index[0]\n",
    "        mean = Data.sort_values(by=list(data.columns.values)[i]).index[len(data)//2]\n",
    "        max = Data.sort_values(by=list(data.columns.values)[i]).index[-1]\n",
    "\n",
    "        #print (min)\n",
    "        min = convert_taipei_time(str(min))\n",
    "        mean = convert_taipei_time(str(mean))\n",
    "        max = convert_taipei_time(str(max))\n",
    "        #print (min)\n",
    "\n",
    "        s3_cp(f=min, type='MIN', tag=str(i), ChannelName=ChannelName)\n",
    "        s3_cp(f=mean, type='MEAM', tag=str(i), ChannelName=ChannelName)\n",
    "        s3_cp(f=max, type='MAX', tag=str(i), ChannelName=ChannelName)\n"
   ]
  },
  {
   "cell_type": "code",
   "execution_count": 14,
   "metadata": {},
   "outputs": [
    {
     "name": "stdout",
     "output_type": "stream",
     "text": [
      "1Y520220100\n",
      "'2018-06-28 15:59:00'\n",
      "'2018-06-27 16:00:00'\n",
      "select * from \"HistRawData_4617a1aa-d153-4ae1-ae42-bff224af66d0_1Y520220100\" where time > '2018-06-27 16:00:00' and time < '2018-06-28 15:59:00'\n",
      "data between '2018-06-27 16:00:00' and '2018-06-28 15:59:00' are retrieved, dimension: 1416x47\n",
      "1Y520220101\n",
      "'2018-06-28 15:59:00'\n",
      "'2018-06-27 16:00:00'\n",
      "select * from \"HistRawData_4617a1aa-d153-4ae1-ae42-bff224af66d0_1Y520220101\" where time > '2018-06-27 16:00:00' and time < '2018-06-28 15:59:00'\n",
      "data between '2018-06-27 16:00:00' and '2018-06-28 15:59:00' are retrieved, dimension: 1416x47\n",
      "1Y520220102\n",
      "'2018-06-28 15:59:00'\n",
      "'2018-06-27 16:00:00'\n",
      "select * from \"HistRawData_4617a1aa-d153-4ae1-ae42-bff224af66d0_1Y520220102\" where time > '2018-06-27 16:00:00' and time < '2018-06-28 15:59:00'\n",
      "data between '2018-06-27 16:00:00' and '2018-06-28 15:59:00' are retrieved, dimension: 1416x47\n",
      "1Y520220103\n",
      "'2018-06-28 15:59:00'\n",
      "'2018-06-27 16:00:00'\n",
      "select * from \"HistRawData_4617a1aa-d153-4ae1-ae42-bff224af66d0_1Y520220103\" where time > '2018-06-27 16:00:00' and time < '2018-06-28 15:59:00'\n",
      "data between '2018-06-27 16:00:00' and '2018-06-28 15:59:00' are retrieved, dimension: 1416x47\n",
      "1Y520220104\n",
      "'2018-06-28 15:59:00'\n",
      "'2018-06-27 16:00:00'\n",
      "select * from \"HistRawData_4617a1aa-d153-4ae1-ae42-bff224af66d0_1Y520220104\" where time > '2018-06-27 16:00:00' and time < '2018-06-28 15:59:00'\n",
      "data between '2018-06-27 16:00:00' and '2018-06-28 15:59:00' are retrieved, dimension: 1416x47\n",
      "1Y520220105\n",
      "'2018-06-28 15:59:00'\n",
      "'2018-06-27 16:00:00'\n",
      "select * from \"HistRawData_4617a1aa-d153-4ae1-ae42-bff224af66d0_1Y520220105\" where time > '2018-06-27 16:00:00' and time < '2018-06-28 15:59:00'\n",
      "data between '2018-06-27 16:00:00' and '2018-06-28 15:59:00' are retrieved, dimension: 1416x47\n",
      "1Y520220106\n",
      "'2018-06-28 15:59:00'\n",
      "'2018-06-27 16:00:00'\n",
      "select * from \"HistRawData_4617a1aa-d153-4ae1-ae42-bff224af66d0_1Y520220106\" where time > '2018-06-27 16:00:00' and time < '2018-06-28 15:59:00'\n",
      "data between '2018-06-27 16:00:00' and '2018-06-28 15:59:00' are retrieved, dimension: 1416x47\n",
      "1Y520220107\n",
      "'2018-06-28 15:59:00'\n",
      "'2018-06-27 16:00:00'\n",
      "select * from \"HistRawData_4617a1aa-d153-4ae1-ae42-bff224af66d0_1Y520220107\" where time > '2018-06-27 16:00:00' and time < '2018-06-28 15:59:00'\n",
      "data between '2018-06-27 16:00:00' and '2018-06-28 15:59:00' are retrieved, dimension: 1416x47\n",
      "1Y520220200\n",
      "'2018-06-28 15:59:00'\n",
      "'2018-06-27 16:00:00'\n",
      "select * from \"HistRawData_4617a1aa-d153-4ae1-ae42-bff224af66d0_1Y520220200\" where time > '2018-06-27 16:00:00' and time < '2018-06-28 15:59:00'\n",
      "data between '2018-06-27 16:00:00' and '2018-06-28 15:59:00' are retrieved, dimension: 1416x47\n",
      "1Y520220201\n",
      "'2018-06-28 15:59:00'\n",
      "'2018-06-27 16:00:00'\n",
      "select * from \"HistRawData_4617a1aa-d153-4ae1-ae42-bff224af66d0_1Y520220201\" where time > '2018-06-27 16:00:00' and time < '2018-06-28 15:59:00'\n",
      "data between '2018-06-27 16:00:00' and '2018-06-28 15:59:00' are retrieved, dimension: 1416x47\n",
      "1Y520220202\n",
      "'2018-06-28 15:59:00'\n",
      "'2018-06-27 16:00:00'\n",
      "select * from \"HistRawData_4617a1aa-d153-4ae1-ae42-bff224af66d0_1Y520220202\" where time > '2018-06-27 16:00:00' and time < '2018-06-28 15:59:00'\n",
      "data between '2018-06-27 16:00:00' and '2018-06-28 15:59:00' are retrieved, dimension: 1416x47\n",
      "1Y520220203\n",
      "'2018-06-28 15:59:00'\n",
      "'2018-06-27 16:00:00'\n",
      "select * from \"HistRawData_4617a1aa-d153-4ae1-ae42-bff224af66d0_1Y520220203\" where time > '2018-06-27 16:00:00' and time < '2018-06-28 15:59:00'\n",
      "data between '2018-06-27 16:00:00' and '2018-06-28 15:59:00' are retrieved, dimension: 1416x47\n",
      "1Y520220204\n",
      "'2018-06-28 15:59:00'\n",
      "'2018-06-27 16:00:00'\n",
      "select * from \"HistRawData_4617a1aa-d153-4ae1-ae42-bff224af66d0_1Y520220204\" where time > '2018-06-27 16:00:00' and time < '2018-06-28 15:59:00'\n",
      "data between '2018-06-27 16:00:00' and '2018-06-28 15:59:00' are retrieved, dimension: 1416x47\n",
      "1Y520220205\n",
      "'2018-06-28 15:59:00'\n",
      "'2018-06-27 16:00:00'\n",
      "select * from \"HistRawData_4617a1aa-d153-4ae1-ae42-bff224af66d0_1Y520220205\" where time > '2018-06-27 16:00:00' and time < '2018-06-28 15:59:00'\n",
      "data between '2018-06-27 16:00:00' and '2018-06-28 15:59:00' are retrieved, dimension: 1416x47\n",
      "1Y520220206\n",
      "'2018-06-28 15:59:00'\n",
      "'2018-06-27 16:00:00'\n",
      "select * from \"HistRawData_4617a1aa-d153-4ae1-ae42-bff224af66d0_1Y520220206\" where time > '2018-06-27 16:00:00' and time < '2018-06-28 15:59:00'\n",
      "data between '2018-06-27 16:00:00' and '2018-06-28 15:59:00' are retrieved, dimension: 1416x47\n",
      "1Y520220207\n",
      "'2018-06-28 15:59:00'\n",
      "'2018-06-27 16:00:00'\n",
      "select * from \"HistRawData_4617a1aa-d153-4ae1-ae42-bff224af66d0_1Y520220207\" where time > '2018-06-27 16:00:00' and time < '2018-06-28 15:59:00'\n",
      "data between '2018-06-27 16:00:00' and '2018-06-28 15:59:00' are retrieved, dimension: 1416x47\n"
     ]
    },
    {
     "ename": "KeyboardInterrupt",
     "evalue": "",
     "output_type": "error",
     "traceback": [
      "\u001b[0;31m---------------------------------------------------------------------------\u001b[0m",
      "\u001b[0;31mKeyboardInterrupt\u001b[0m                         Traceback (most recent call last)",
      "\u001b[0;32m<ipython-input-14-e0dfcfd06541>\u001b[0m in \u001b[0;36m<module>\u001b[0;34m()\u001b[0m\n\u001b[1;32m      8\u001b[0m         \u001b[0mchannel\u001b[0m \u001b[0;34m=\u001b[0m \u001b[0mfolder\u001b[0m\u001b[0;34m.\u001b[0m\u001b[0mname\u001b[0m\u001b[0;34m.\u001b[0m\u001b[0msplit\u001b[0m\u001b[0;34m(\u001b[0m\u001b[0;34m\"/\"\u001b[0m\u001b[0;34m)\u001b[0m\u001b[0;34m[\u001b[0m\u001b[0;36m1\u001b[0m\u001b[0;34m]\u001b[0m\u001b[0;34m\u001b[0m\u001b[0m\n\u001b[1;32m      9\u001b[0m         \u001b[0mdata\u001b[0m \u001b[0;34m=\u001b[0m \u001b[0mget_scada_data\u001b[0m \u001b[0;34m(\u001b[0m\u001b[0mchannel\u001b[0m\u001b[0;34m)\u001b[0m\u001b[0;34m\u001b[0m\u001b[0m\n\u001b[0;32m---> 10\u001b[0;31m         \u001b[0mpre_process\u001b[0m \u001b[0;34m(\u001b[0m\u001b[0mdata\u001b[0m\u001b[0;34m,\u001b[0m \u001b[0mchannel\u001b[0m\u001b[0;34m)\u001b[0m\u001b[0;34m\u001b[0m\u001b[0m\n\u001b[0m",
      "\u001b[0;32m<ipython-input-13-cc8e43440c2c>\u001b[0m in \u001b[0;36mpre_process\u001b[0;34m(Data, ChannelName)\u001b[0m\n\u001b[1;32m     15\u001b[0m         \u001b[0;31m#print (min)\u001b[0m\u001b[0;34m\u001b[0m\u001b[0;34m\u001b[0m\u001b[0m\n\u001b[1;32m     16\u001b[0m \u001b[0;34m\u001b[0m\u001b[0m\n\u001b[0;32m---> 17\u001b[0;31m         \u001b[0ms3_cp\u001b[0m\u001b[0;34m(\u001b[0m\u001b[0mf\u001b[0m\u001b[0;34m=\u001b[0m\u001b[0mmin\u001b[0m\u001b[0;34m,\u001b[0m \u001b[0mtype\u001b[0m\u001b[0;34m=\u001b[0m\u001b[0;34m'MIN'\u001b[0m\u001b[0;34m,\u001b[0m \u001b[0mtag\u001b[0m\u001b[0;34m=\u001b[0m\u001b[0mstr\u001b[0m\u001b[0;34m(\u001b[0m\u001b[0mi\u001b[0m\u001b[0;34m)\u001b[0m\u001b[0;34m,\u001b[0m \u001b[0mChannelName\u001b[0m\u001b[0;34m=\u001b[0m\u001b[0mChannelName\u001b[0m\u001b[0;34m)\u001b[0m\u001b[0;34m\u001b[0m\u001b[0m\n\u001b[0m\u001b[1;32m     18\u001b[0m         \u001b[0ms3_cp\u001b[0m\u001b[0;34m(\u001b[0m\u001b[0mf\u001b[0m\u001b[0;34m=\u001b[0m\u001b[0mmean\u001b[0m\u001b[0;34m,\u001b[0m \u001b[0mtype\u001b[0m\u001b[0;34m=\u001b[0m\u001b[0;34m'MEAM'\u001b[0m\u001b[0;34m,\u001b[0m \u001b[0mtag\u001b[0m\u001b[0;34m=\u001b[0m\u001b[0mstr\u001b[0m\u001b[0;34m(\u001b[0m\u001b[0mi\u001b[0m\u001b[0;34m)\u001b[0m\u001b[0;34m,\u001b[0m \u001b[0mChannelName\u001b[0m\u001b[0;34m=\u001b[0m\u001b[0mChannelName\u001b[0m\u001b[0;34m)\u001b[0m\u001b[0;34m\u001b[0m\u001b[0m\n\u001b[1;32m     19\u001b[0m         \u001b[0ms3_cp\u001b[0m\u001b[0;34m(\u001b[0m\u001b[0mf\u001b[0m\u001b[0;34m=\u001b[0m\u001b[0mmax\u001b[0m\u001b[0;34m,\u001b[0m \u001b[0mtype\u001b[0m\u001b[0;34m=\u001b[0m\u001b[0;34m'MAX'\u001b[0m\u001b[0;34m,\u001b[0m \u001b[0mtag\u001b[0m\u001b[0;34m=\u001b[0m\u001b[0mstr\u001b[0m\u001b[0;34m(\u001b[0m\u001b[0mi\u001b[0m\u001b[0;34m)\u001b[0m\u001b[0;34m,\u001b[0m \u001b[0mChannelName\u001b[0m\u001b[0;34m=\u001b[0m\u001b[0mChannelName\u001b[0m\u001b[0;34m)\u001b[0m\u001b[0;34m\u001b[0m\u001b[0m\n",
      "\u001b[0;32m<ipython-input-10-c478f8795a55>\u001b[0m in \u001b[0;36ms3_cp\u001b[0;34m(f, type, tag, ChannelName)\u001b[0m\n\u001b[1;32m     24\u001b[0m     \u001b[0mkey\u001b[0m\u001b[0;34m.\u001b[0m\u001b[0mkey\u001b[0m \u001b[0;34m=\u001b[0m \u001b[0mos\u001b[0m\u001b[0;34m.\u001b[0m\u001b[0mpath\u001b[0m\u001b[0;34m.\u001b[0m\u001b[0mjoin\u001b[0m\u001b[0;34m(\u001b[0m\u001b[0mpath\u001b[0m\u001b[0;34m,\u001b[0m \u001b[0mfrom_filename\u001b[0m\u001b[0;34m)\u001b[0m\u001b[0;34m\u001b[0m\u001b[0m\n\u001b[1;32m     25\u001b[0m     \u001b[0;31m#print(key.key)\u001b[0m\u001b[0;34m\u001b[0m\u001b[0;34m\u001b[0m\u001b[0m\n\u001b[0;32m---> 26\u001b[0;31m     \u001b[0mkey\u001b[0m\u001b[0;34m.\u001b[0m\u001b[0mget_contents_to_filename\u001b[0m\u001b[0;34m(\u001b[0m\u001b[0mfrom_filename\u001b[0m\u001b[0;34m)\u001b[0m\u001b[0;34m\u001b[0m\u001b[0m\n\u001b[0m\u001b[1;32m     27\u001b[0m \u001b[0;34m\u001b[0m\u001b[0m\n\u001b[1;32m     28\u001b[0m     \u001b[0;31m# Upload\u001b[0m\u001b[0;34m\u001b[0m\u001b[0;34m\u001b[0m\u001b[0m\n",
      "\u001b[0;32m~/.cloudfoundry/0/python/lib/python3.6/site-packages/boto/s3/key.py\u001b[0m in \u001b[0;36mget_contents_to_filename\u001b[0;34m(self, filename, headers, cb, num_cb, torrent, version_id, res_download_handler, response_headers)\u001b[0m\n\u001b[1;32m   1722\u001b[0m                                           \u001b[0mversion_id\u001b[0m\u001b[0;34m=\u001b[0m\u001b[0mversion_id\u001b[0m\u001b[0;34m,\u001b[0m\u001b[0;34m\u001b[0m\u001b[0m\n\u001b[1;32m   1723\u001b[0m                                           \u001b[0mres_download_handler\u001b[0m\u001b[0;34m=\u001b[0m\u001b[0mres_download_handler\u001b[0m\u001b[0;34m,\u001b[0m\u001b[0;34m\u001b[0m\u001b[0m\n\u001b[0;32m-> 1724\u001b[0;31m                                           response_headers=response_headers)\n\u001b[0m\u001b[1;32m   1725\u001b[0m         \u001b[0;32mexcept\u001b[0m \u001b[0mException\u001b[0m\u001b[0;34m:\u001b[0m\u001b[0;34m\u001b[0m\u001b[0m\n\u001b[1;32m   1726\u001b[0m             \u001b[0mos\u001b[0m\u001b[0;34m.\u001b[0m\u001b[0mremove\u001b[0m\u001b[0;34m(\u001b[0m\u001b[0mfilename\u001b[0m\u001b[0;34m)\u001b[0m\u001b[0;34m\u001b[0m\u001b[0m\n",
      "\u001b[0;32m~/.cloudfoundry/0/python/lib/python3.6/site-packages/boto/s3/key.py\u001b[0m in \u001b[0;36mget_contents_to_file\u001b[0;34m(self, fp, headers, cb, num_cb, torrent, version_id, res_download_handler, response_headers)\u001b[0m\n\u001b[1;32m   1660\u001b[0m                 self.get_file(fp, headers, cb, num_cb, torrent=torrent,\n\u001b[1;32m   1661\u001b[0m                               \u001b[0mversion_id\u001b[0m\u001b[0;34m=\u001b[0m\u001b[0mversion_id\u001b[0m\u001b[0;34m,\u001b[0m\u001b[0;34m\u001b[0m\u001b[0m\n\u001b[0;32m-> 1662\u001b[0;31m                               response_headers=response_headers)\n\u001b[0m\u001b[1;32m   1663\u001b[0m \u001b[0;34m\u001b[0m\u001b[0m\n\u001b[1;32m   1664\u001b[0m     def get_contents_to_filename(self, filename, headers=None,\n",
      "\u001b[0;32m~/.cloudfoundry/0/python/lib/python3.6/site-packages/boto/s3/key.py\u001b[0m in \u001b[0;36mget_file\u001b[0;34m(self, fp, headers, cb, num_cb, torrent, version_id, override_num_retries, response_headers)\u001b[0m\n\u001b[1;32m   1492\u001b[0m                                 \u001b[0mresponse_headers\u001b[0m\u001b[0;34m=\u001b[0m\u001b[0mresponse_headers\u001b[0m\u001b[0;34m,\u001b[0m\u001b[0;34m\u001b[0m\u001b[0m\n\u001b[1;32m   1493\u001b[0m                                 \u001b[0mhash_algs\u001b[0m\u001b[0;34m=\u001b[0m\u001b[0;32mNone\u001b[0m\u001b[0;34m,\u001b[0m\u001b[0;34m\u001b[0m\u001b[0m\n\u001b[0;32m-> 1494\u001b[0;31m                                 query_args=None)\n\u001b[0m\u001b[1;32m   1495\u001b[0m \u001b[0;34m\u001b[0m\u001b[0m\n\u001b[1;32m   1496\u001b[0m     def _get_file_internal(self, fp, headers=None, cb=None, num_cb=10,\n",
      "\u001b[0;32m~/.cloudfoundry/0/python/lib/python3.6/site-packages/boto/s3/key.py\u001b[0m in \u001b[0;36m_get_file_internal\u001b[0;34m(self, fp, headers, cb, num_cb, torrent, version_id, override_num_retries, response_headers, hash_algs, query_args)\u001b[0m\n\u001b[1;32m   1524\u001b[0m         \u001b[0mquery_args\u001b[0m \u001b[0;34m=\u001b[0m \u001b[0;34m'&'\u001b[0m\u001b[0;34m.\u001b[0m\u001b[0mjoin\u001b[0m\u001b[0;34m(\u001b[0m\u001b[0mquery_args\u001b[0m\u001b[0;34m)\u001b[0m\u001b[0;34m\u001b[0m\u001b[0m\n\u001b[1;32m   1525\u001b[0m         self.open('r', headers, query_args=query_args,\n\u001b[0;32m-> 1526\u001b[0;31m                   override_num_retries=override_num_retries)\n\u001b[0m\u001b[1;32m   1527\u001b[0m \u001b[0;34m\u001b[0m\u001b[0m\n\u001b[1;32m   1528\u001b[0m         \u001b[0mdata_len\u001b[0m \u001b[0;34m=\u001b[0m \u001b[0;36m0\u001b[0m\u001b[0;34m\u001b[0m\u001b[0m\n",
      "\u001b[0;32m~/.cloudfoundry/0/python/lib/python3.6/site-packages/boto/s3/key.py\u001b[0m in \u001b[0;36mopen\u001b[0;34m(self, mode, headers, query_args, override_num_retries)\u001b[0m\n\u001b[1;32m    353\u001b[0m             \u001b[0mself\u001b[0m\u001b[0;34m.\u001b[0m\u001b[0mmode\u001b[0m \u001b[0;34m=\u001b[0m \u001b[0;34m'r'\u001b[0m\u001b[0;34m\u001b[0m\u001b[0m\n\u001b[1;32m    354\u001b[0m             self.open_read(headers=headers, query_args=query_args,\n\u001b[0;32m--> 355\u001b[0;31m                            override_num_retries=override_num_retries)\n\u001b[0m\u001b[1;32m    356\u001b[0m         \u001b[0;32melif\u001b[0m \u001b[0mmode\u001b[0m \u001b[0;34m==\u001b[0m \u001b[0;34m'w'\u001b[0m\u001b[0;34m:\u001b[0m\u001b[0;34m\u001b[0m\u001b[0m\n\u001b[1;32m    357\u001b[0m             \u001b[0mself\u001b[0m\u001b[0;34m.\u001b[0m\u001b[0mmode\u001b[0m \u001b[0;34m=\u001b[0m \u001b[0;34m'w'\u001b[0m\u001b[0;34m\u001b[0m\u001b[0m\n",
      "\u001b[0;32m~/.cloudfoundry/0/python/lib/python3.6/site-packages/boto/s3/key.py\u001b[0m in \u001b[0;36mopen_read\u001b[0;34m(self, headers, query_args, override_num_retries, response_headers)\u001b[0m\n\u001b[1;32m    309\u001b[0m                 \u001b[0;34m'GET'\u001b[0m\u001b[0;34m,\u001b[0m \u001b[0mself\u001b[0m\u001b[0;34m.\u001b[0m\u001b[0mbucket\u001b[0m\u001b[0;34m.\u001b[0m\u001b[0mname\u001b[0m\u001b[0;34m,\u001b[0m \u001b[0mself\u001b[0m\u001b[0;34m.\u001b[0m\u001b[0mname\u001b[0m\u001b[0;34m,\u001b[0m \u001b[0mheaders\u001b[0m\u001b[0;34m,\u001b[0m\u001b[0;34m\u001b[0m\u001b[0m\n\u001b[1;32m    310\u001b[0m                 \u001b[0mquery_args\u001b[0m\u001b[0;34m=\u001b[0m\u001b[0mquery_args\u001b[0m\u001b[0;34m,\u001b[0m\u001b[0;34m\u001b[0m\u001b[0m\n\u001b[0;32m--> 311\u001b[0;31m                 override_num_retries=override_num_retries)\n\u001b[0m\u001b[1;32m    312\u001b[0m             \u001b[0;32mif\u001b[0m \u001b[0mself\u001b[0m\u001b[0;34m.\u001b[0m\u001b[0mresp\u001b[0m\u001b[0;34m.\u001b[0m\u001b[0mstatus\u001b[0m \u001b[0;34m<\u001b[0m \u001b[0;36m199\u001b[0m \u001b[0;32mor\u001b[0m \u001b[0mself\u001b[0m\u001b[0;34m.\u001b[0m\u001b[0mresp\u001b[0m\u001b[0;34m.\u001b[0m\u001b[0mstatus\u001b[0m \u001b[0;34m>\u001b[0m \u001b[0;36m299\u001b[0m\u001b[0;34m:\u001b[0m\u001b[0;34m\u001b[0m\u001b[0m\n\u001b[1;32m    313\u001b[0m                 \u001b[0mbody\u001b[0m \u001b[0;34m=\u001b[0m \u001b[0mself\u001b[0m\u001b[0;34m.\u001b[0m\u001b[0mresp\u001b[0m\u001b[0;34m.\u001b[0m\u001b[0mread\u001b[0m\u001b[0;34m(\u001b[0m\u001b[0;34m)\u001b[0m\u001b[0;34m\u001b[0m\u001b[0m\n",
      "\u001b[0;32m~/.cloudfoundry/0/python/lib/python3.6/site-packages/boto/s3/connection.py\u001b[0m in \u001b[0;36mmake_request\u001b[0;34m(self, method, bucket, key, headers, data, query_args, sender, override_num_retries, retry_handler)\u001b[0m\n\u001b[1;32m    669\u001b[0m             \u001b[0mdata\u001b[0m\u001b[0;34m,\u001b[0m \u001b[0mhost\u001b[0m\u001b[0;34m,\u001b[0m \u001b[0mauth_path\u001b[0m\u001b[0;34m,\u001b[0m \u001b[0msender\u001b[0m\u001b[0;34m,\u001b[0m\u001b[0;34m\u001b[0m\u001b[0m\n\u001b[1;32m    670\u001b[0m             \u001b[0moverride_num_retries\u001b[0m\u001b[0;34m=\u001b[0m\u001b[0moverride_num_retries\u001b[0m\u001b[0;34m,\u001b[0m\u001b[0;34m\u001b[0m\u001b[0m\n\u001b[0;32m--> 671\u001b[0;31m             \u001b[0mretry_handler\u001b[0m\u001b[0;34m=\u001b[0m\u001b[0mretry_handler\u001b[0m\u001b[0;34m\u001b[0m\u001b[0m\n\u001b[0m\u001b[1;32m    672\u001b[0m         )\n",
      "\u001b[0;32m~/.cloudfoundry/0/python/lib/python3.6/site-packages/boto/connection.py\u001b[0m in \u001b[0;36mmake_request\u001b[0;34m(self, method, path, headers, data, host, auth_path, sender, override_num_retries, params, retry_handler)\u001b[0m\n\u001b[1;32m   1069\u001b[0m                                                     params, headers, data, host)\n\u001b[1;32m   1070\u001b[0m         return self._mexe(http_request, sender, override_num_retries,\n\u001b[0;32m-> 1071\u001b[0;31m                           retry_handler=retry_handler)\n\u001b[0m\u001b[1;32m   1072\u001b[0m \u001b[0;34m\u001b[0m\u001b[0m\n\u001b[1;32m   1073\u001b[0m     \u001b[0;32mdef\u001b[0m \u001b[0mclose\u001b[0m\u001b[0;34m(\u001b[0m\u001b[0mself\u001b[0m\u001b[0;34m)\u001b[0m\u001b[0;34m:\u001b[0m\u001b[0;34m\u001b[0m\u001b[0m\n",
      "\u001b[0;32m~/.cloudfoundry/0/python/lib/python3.6/site-packages/boto/connection.py\u001b[0m in \u001b[0;36m_mexe\u001b[0;34m(self, request, sender, override_num_retries, retry_handler)\u001b[0m\n\u001b[1;32m    942\u001b[0m                     connection.request(request.method, request.path,\n\u001b[1;32m    943\u001b[0m                                        request.body, request.headers)\n\u001b[0;32m--> 944\u001b[0;31m                     \u001b[0mresponse\u001b[0m \u001b[0;34m=\u001b[0m \u001b[0mconnection\u001b[0m\u001b[0;34m.\u001b[0m\u001b[0mgetresponse\u001b[0m\u001b[0;34m(\u001b[0m\u001b[0;34m)\u001b[0m\u001b[0;34m\u001b[0m\u001b[0m\n\u001b[0m\u001b[1;32m    945\u001b[0m                 \u001b[0mboto\u001b[0m\u001b[0;34m.\u001b[0m\u001b[0mlog\u001b[0m\u001b[0;34m.\u001b[0m\u001b[0mdebug\u001b[0m\u001b[0;34m(\u001b[0m\u001b[0;34m'Response headers: %s'\u001b[0m \u001b[0;34m%\u001b[0m \u001b[0mresponse\u001b[0m\u001b[0;34m.\u001b[0m\u001b[0mgetheaders\u001b[0m\u001b[0;34m(\u001b[0m\u001b[0;34m)\u001b[0m\u001b[0;34m)\u001b[0m\u001b[0;34m\u001b[0m\u001b[0m\n\u001b[1;32m    946\u001b[0m                 \u001b[0mlocation\u001b[0m \u001b[0;34m=\u001b[0m \u001b[0mresponse\u001b[0m\u001b[0;34m.\u001b[0m\u001b[0mgetheader\u001b[0m\u001b[0;34m(\u001b[0m\u001b[0;34m'location'\u001b[0m\u001b[0;34m)\u001b[0m\u001b[0;34m\u001b[0m\u001b[0m\n",
      "\u001b[0;32m~/.cloudfoundry/0/python/lib/python3.6/http/client.py\u001b[0m in \u001b[0;36mgetresponse\u001b[0;34m(self)\u001b[0m\n\u001b[1;32m   1329\u001b[0m         \u001b[0;32mtry\u001b[0m\u001b[0;34m:\u001b[0m\u001b[0;34m\u001b[0m\u001b[0m\n\u001b[1;32m   1330\u001b[0m             \u001b[0;32mtry\u001b[0m\u001b[0;34m:\u001b[0m\u001b[0;34m\u001b[0m\u001b[0m\n\u001b[0;32m-> 1331\u001b[0;31m                 \u001b[0mresponse\u001b[0m\u001b[0;34m.\u001b[0m\u001b[0mbegin\u001b[0m\u001b[0;34m(\u001b[0m\u001b[0;34m)\u001b[0m\u001b[0;34m\u001b[0m\u001b[0m\n\u001b[0m\u001b[1;32m   1332\u001b[0m             \u001b[0;32mexcept\u001b[0m \u001b[0mConnectionError\u001b[0m\u001b[0;34m:\u001b[0m\u001b[0;34m\u001b[0m\u001b[0m\n\u001b[1;32m   1333\u001b[0m                 \u001b[0mself\u001b[0m\u001b[0;34m.\u001b[0m\u001b[0mclose\u001b[0m\u001b[0;34m(\u001b[0m\u001b[0;34m)\u001b[0m\u001b[0;34m\u001b[0m\u001b[0m\n",
      "\u001b[0;32m~/.cloudfoundry/0/python/lib/python3.6/http/client.py\u001b[0m in \u001b[0;36mbegin\u001b[0;34m(self)\u001b[0m\n\u001b[1;32m    295\u001b[0m         \u001b[0;31m# read until we get a non-100 response\u001b[0m\u001b[0;34m\u001b[0m\u001b[0;34m\u001b[0m\u001b[0m\n\u001b[1;32m    296\u001b[0m         \u001b[0;32mwhile\u001b[0m \u001b[0;32mTrue\u001b[0m\u001b[0;34m:\u001b[0m\u001b[0;34m\u001b[0m\u001b[0m\n\u001b[0;32m--> 297\u001b[0;31m             \u001b[0mversion\u001b[0m\u001b[0;34m,\u001b[0m \u001b[0mstatus\u001b[0m\u001b[0;34m,\u001b[0m \u001b[0mreason\u001b[0m \u001b[0;34m=\u001b[0m \u001b[0mself\u001b[0m\u001b[0;34m.\u001b[0m\u001b[0m_read_status\u001b[0m\u001b[0;34m(\u001b[0m\u001b[0;34m)\u001b[0m\u001b[0;34m\u001b[0m\u001b[0m\n\u001b[0m\u001b[1;32m    298\u001b[0m             \u001b[0;32mif\u001b[0m \u001b[0mstatus\u001b[0m \u001b[0;34m!=\u001b[0m \u001b[0mCONTINUE\u001b[0m\u001b[0;34m:\u001b[0m\u001b[0;34m\u001b[0m\u001b[0m\n\u001b[1;32m    299\u001b[0m                 \u001b[0;32mbreak\u001b[0m\u001b[0;34m\u001b[0m\u001b[0m\n",
      "\u001b[0;32m~/.cloudfoundry/0/python/lib/python3.6/http/client.py\u001b[0m in \u001b[0;36m_read_status\u001b[0;34m(self)\u001b[0m\n\u001b[1;32m    256\u001b[0m \u001b[0;34m\u001b[0m\u001b[0m\n\u001b[1;32m    257\u001b[0m     \u001b[0;32mdef\u001b[0m \u001b[0m_read_status\u001b[0m\u001b[0;34m(\u001b[0m\u001b[0mself\u001b[0m\u001b[0;34m)\u001b[0m\u001b[0;34m:\u001b[0m\u001b[0;34m\u001b[0m\u001b[0m\n\u001b[0;32m--> 258\u001b[0;31m         \u001b[0mline\u001b[0m \u001b[0;34m=\u001b[0m \u001b[0mstr\u001b[0m\u001b[0;34m(\u001b[0m\u001b[0mself\u001b[0m\u001b[0;34m.\u001b[0m\u001b[0mfp\u001b[0m\u001b[0;34m.\u001b[0m\u001b[0mreadline\u001b[0m\u001b[0;34m(\u001b[0m\u001b[0m_MAXLINE\u001b[0m \u001b[0;34m+\u001b[0m \u001b[0;36m1\u001b[0m\u001b[0;34m)\u001b[0m\u001b[0;34m,\u001b[0m \u001b[0;34m\"iso-8859-1\"\u001b[0m\u001b[0;34m)\u001b[0m\u001b[0;34m\u001b[0m\u001b[0m\n\u001b[0m\u001b[1;32m    259\u001b[0m         \u001b[0;32mif\u001b[0m \u001b[0mlen\u001b[0m\u001b[0;34m(\u001b[0m\u001b[0mline\u001b[0m\u001b[0;34m)\u001b[0m \u001b[0;34m>\u001b[0m \u001b[0m_MAXLINE\u001b[0m\u001b[0;34m:\u001b[0m\u001b[0;34m\u001b[0m\u001b[0m\n\u001b[1;32m    260\u001b[0m             \u001b[0;32mraise\u001b[0m \u001b[0mLineTooLong\u001b[0m\u001b[0;34m(\u001b[0m\u001b[0;34m\"status line\"\u001b[0m\u001b[0;34m)\u001b[0m\u001b[0;34m\u001b[0m\u001b[0m\n",
      "\u001b[0;32m~/.cloudfoundry/0/python/lib/python3.6/socket.py\u001b[0m in \u001b[0;36mreadinto\u001b[0;34m(self, b)\u001b[0m\n\u001b[1;32m    584\u001b[0m         \u001b[0;32mwhile\u001b[0m \u001b[0;32mTrue\u001b[0m\u001b[0;34m:\u001b[0m\u001b[0;34m\u001b[0m\u001b[0m\n\u001b[1;32m    585\u001b[0m             \u001b[0;32mtry\u001b[0m\u001b[0;34m:\u001b[0m\u001b[0;34m\u001b[0m\u001b[0m\n\u001b[0;32m--> 586\u001b[0;31m                 \u001b[0;32mreturn\u001b[0m \u001b[0mself\u001b[0m\u001b[0;34m.\u001b[0m\u001b[0m_sock\u001b[0m\u001b[0;34m.\u001b[0m\u001b[0mrecv_into\u001b[0m\u001b[0;34m(\u001b[0m\u001b[0mb\u001b[0m\u001b[0;34m)\u001b[0m\u001b[0;34m\u001b[0m\u001b[0m\n\u001b[0m\u001b[1;32m    587\u001b[0m             \u001b[0;32mexcept\u001b[0m \u001b[0mtimeout\u001b[0m\u001b[0;34m:\u001b[0m\u001b[0;34m\u001b[0m\u001b[0m\n\u001b[1;32m    588\u001b[0m                 \u001b[0mself\u001b[0m\u001b[0;34m.\u001b[0m\u001b[0m_timeout_occurred\u001b[0m \u001b[0;34m=\u001b[0m \u001b[0;32mTrue\u001b[0m\u001b[0;34m\u001b[0m\u001b[0m\n",
      "\u001b[0;31mKeyboardInterrupt\u001b[0m: "
     ]
    }
   ],
   "source": [
    "bucket = s3_connection.get_bucket(S3_BUCKET_FROM, validate=False)\n",
    "\n",
    "folders = bucket.list(NUM_SMB + \"/\",\"/\")\n",
    "for folder in folders:\n",
    "    if folder.name.split(\"/\")[1]:\n",
    "        \n",
    "        print (folder.name.split(\"/\")[1])\n",
    "        channel = folder.name.split(\"/\")[1]\n",
    "        data = get_scada_data (channel)\n",
    "        pre_process (data, channel)"
   ]
  },
  {
   "cell_type": "code",
   "execution_count": null,
   "metadata": {},
   "outputs": [],
   "source": []
  }
 ],
 "metadata": {
  "kernelspec": {
   "display_name": "Python 3",
   "language": "python",
   "name": "python3"
  },
  "language_info": {
   "codemirror_mode": {
    "name": "ipython",
    "version": 3
   },
   "file_extension": ".py",
   "mimetype": "text/x-python",
   "name": "python",
   "nbconvert_exporter": "python",
   "pygments_lexer": "ipython3",
   "version": "3.6.1"
  }
 },
 "nbformat": 4,
 "nbformat_minor": 2
}
